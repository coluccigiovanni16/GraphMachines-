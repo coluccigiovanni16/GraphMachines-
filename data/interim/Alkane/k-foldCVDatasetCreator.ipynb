{
 "cells": [
  {
   "cell_type": "code",
   "execution_count": null,
   "metadata": {},
   "outputs": [],
   "source": [
    "from random import shuffle\n",
    "import random,re\n",
    "\n",
    "filepathTV = 'dataset_boiling_point_names.txt'\n",
    "molDict={}\n",
    "with open(filepathTV) as fp:\n",
    "    line = fp.readline()\n",
    "    line=re.findall(\"[,0-9a-zA-Z()_-]*.ct [-0-9]*[.0-9]*\", line)\n",
    "    line=line[0].split(' ')\n",
    "    molDict[line[0]]=line[1]\n",
    "    while line:\n",
    "        line = fp.readline()\n",
    "        if line:\n",
    "            line=re.findall(\"[,0-9a-zA-Z()_-]*.ct [-0-9]*[.0-9]*\", line)\n",
    "            line=line[0].split(' ')\n",
    "            molDict[line[0]]=line[1]\n",
    "            \n",
    "# trueValue=trueValue[1:]\n",
    "print(molDict)\n",
    "\n",
    "import random\n",
    "keys =  list(molDict.keys())\n",
    "random.shuffle(keys)\n",
    "ShuffledmolDict = {}\n",
    "for key in keys:\n",
    "    ShuffledmolDict[key]=molDict[key]\n",
    "print(ShuffledmolDict)\n",
    "\n",
    "\n",
    "\n",
    "\n",
    "\n",
    "\n",
    "from collections import deque\n",
    "molFileName = deque(ShuffledmolDict.keys())\n",
    "for i in range(10):\n",
    "    molFileName = list(molFileName)\n",
    "    f = open('trainset_'+str(i)+'.ds', 'w')\n",
    "    for nameF in molFileName[:135]:\n",
    "        # read a single line\n",
    "        f.write(nameF+' '+ShuffledmolDict[nameF]+'\\n')\n",
    "    # close the pointer to that file\n",
    "    f.close()\n",
    "    f = open('testset_'+str(i)+'.ds', 'w')\n",
    "    for nameF in molFileName[135:]:\n",
    "        # read a single line\n",
    "        f.write(nameF+' '+ShuffledmolDict[nameF]+'\\n')\n",
    "    # close the pointer to that file\n",
    "    f.close()\n",
    "    molFileName = deque(molFileName)\n",
    "    molFileName.rotate(15)       \n"
   ]
  },
  {
   "cell_type": "code",
   "execution_count": null,
   "metadata": {},
   "outputs": [],
   "source": []
  }
 ],
 "metadata": {
  "kernelspec": {
   "display_name": "Python 3",
   "language": "python",
   "name": "python3"
  },
  "language_info": {
   "codemirror_mode": {
    "name": "ipython",
    "version": 3
   },
   "file_extension": ".py",
   "mimetype": "text/x-python",
   "name": "python",
   "nbconvert_exporter": "python",
   "pygments_lexer": "ipython3",
   "version": "3.6.8"
  }
 },
 "nbformat": 4,
 "nbformat_minor": 4
}
